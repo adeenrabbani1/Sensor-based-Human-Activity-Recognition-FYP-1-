{
 "cells": [
  {
   "cell_type": "markdown",
   "metadata": {},
   "source": [
    " ## Human Activity Recognition\n",
    " \n",
    " This notebook is written for initial implementation of final year research project. The objective of this implementation and analysis is to better understand the tradional approach to sensor-based human activity recognition. part-2 of this research will be focused on the application of deep learning techniques to sensor-based human actitvity recognition and coming up with deep learing architecture which improves the classification results."
   ]
  },
  {
   "cell_type": "code",
   "execution_count": 2,
   "metadata": {},
   "outputs": [],
   "source": [
    "import os\n",
    "import pandas as pd\n",
    "import numpy as np\n",
    "from glob import glob\n",
    "import torch\n",
    "import random\n",
    "import torchvision\n",
    "from torch.utils.data.sampler import SubsetRandomSampler\n",
    "from torchvision import datasets, models, transforms\n",
    "import matplotlib.pyplot as plt\n",
    "\n",
    "%matplotlib inline"
   ]
  },
  {
   "cell_type": "code",
   "execution_count": 2,
   "metadata": {},
   "outputs": [],
   "source": [
    "root = \"Data Sets\\HAPT Data Set\"\n",
    "# data = open(root+\"\\Train\\X_train.txt\")\n",
    "# data = data.read().split('\\n')\n",
    "\n",
    "#we are loading the train data and labels..\n",
    "# these are handcrafed features! preprocesed by domain experts!\n",
    "\n",
    "train_x = pd.read_csv(root+\"\\Train\\X_train.txt\", delim_whitespace=True , header= None )\n",
    "test_x  = pd.read_csv(root+\"\\Test\\X_test.txt\", delim_whitespace=True , header= None )\n",
    "test_y  = pd.read_csv(root+\"\\Test\\y_test.txt\", header= None)\n",
    "train_y = pd.read_csv(root+\"\\Train\\y_train.txt\", header= None)"
   ]
  },
  {
   "cell_type": "code",
   "execution_count": 7,
   "metadata": {},
   "outputs": [
    {
     "name": "stdout",
     "output_type": "stream",
     "text": [
      "Some Examples from the training Set\n"
     ]
    },
    {
     "data": {
      "text/html": [
       "<div>\n",
       "<style scoped>\n",
       "    .dataframe tbody tr th:only-of-type {\n",
       "        vertical-align: middle;\n",
       "    }\n",
       "\n",
       "    .dataframe tbody tr th {\n",
       "        vertical-align: top;\n",
       "    }\n",
       "\n",
       "    .dataframe thead th {\n",
       "        text-align: right;\n",
       "    }\n",
       "</style>\n",
       "<table border=\"1\" class=\"dataframe\">\n",
       "  <thead>\n",
       "    <tr style=\"text-align: right;\">\n",
       "      <th></th>\n",
       "      <th>0</th>\n",
       "      <th>1</th>\n",
       "      <th>2</th>\n",
       "      <th>3</th>\n",
       "      <th>4</th>\n",
       "      <th>5</th>\n",
       "      <th>6</th>\n",
       "      <th>7</th>\n",
       "      <th>8</th>\n",
       "      <th>9</th>\n",
       "      <th>...</th>\n",
       "      <th>551</th>\n",
       "      <th>552</th>\n",
       "      <th>553</th>\n",
       "      <th>554</th>\n",
       "      <th>555</th>\n",
       "      <th>556</th>\n",
       "      <th>557</th>\n",
       "      <th>558</th>\n",
       "      <th>559</th>\n",
       "      <th>560</th>\n",
       "    </tr>\n",
       "  </thead>\n",
       "  <tbody>\n",
       "    <tr>\n",
       "      <th>0</th>\n",
       "      <td>0.043580</td>\n",
       "      <td>-0.005970</td>\n",
       "      <td>-0.035054</td>\n",
       "      <td>-0.995381</td>\n",
       "      <td>-0.988366</td>\n",
       "      <td>-0.937382</td>\n",
       "      <td>-0.995007</td>\n",
       "      <td>-0.988816</td>\n",
       "      <td>-0.953325</td>\n",
       "      <td>-0.794796</td>\n",
       "      <td>...</td>\n",
       "      <td>-0.012236</td>\n",
       "      <td>-0.314848</td>\n",
       "      <td>-0.713308</td>\n",
       "      <td>-0.112754</td>\n",
       "      <td>0.030400</td>\n",
       "      <td>-0.464761</td>\n",
       "      <td>-0.018446</td>\n",
       "      <td>-0.841559</td>\n",
       "      <td>0.179913</td>\n",
       "      <td>-0.051718</td>\n",
       "    </tr>\n",
       "    <tr>\n",
       "      <th>1</th>\n",
       "      <td>0.039480</td>\n",
       "      <td>-0.002131</td>\n",
       "      <td>-0.029067</td>\n",
       "      <td>-0.998348</td>\n",
       "      <td>-0.982945</td>\n",
       "      <td>-0.971273</td>\n",
       "      <td>-0.998702</td>\n",
       "      <td>-0.983315</td>\n",
       "      <td>-0.974000</td>\n",
       "      <td>-0.802537</td>\n",
       "      <td>...</td>\n",
       "      <td>0.202804</td>\n",
       "      <td>-0.603199</td>\n",
       "      <td>-0.860677</td>\n",
       "      <td>0.053477</td>\n",
       "      <td>-0.007435</td>\n",
       "      <td>-0.732626</td>\n",
       "      <td>0.703511</td>\n",
       "      <td>-0.845092</td>\n",
       "      <td>0.180261</td>\n",
       "      <td>-0.047436</td>\n",
       "    </tr>\n",
       "    <tr>\n",
       "      <th>2</th>\n",
       "      <td>0.039978</td>\n",
       "      <td>-0.005153</td>\n",
       "      <td>-0.022651</td>\n",
       "      <td>-0.995482</td>\n",
       "      <td>-0.977314</td>\n",
       "      <td>-0.984760</td>\n",
       "      <td>-0.996415</td>\n",
       "      <td>-0.975835</td>\n",
       "      <td>-0.985973</td>\n",
       "      <td>-0.798477</td>\n",
       "      <td>...</td>\n",
       "      <td>0.440079</td>\n",
       "      <td>-0.404427</td>\n",
       "      <td>-0.761847</td>\n",
       "      <td>-0.118559</td>\n",
       "      <td>0.177899</td>\n",
       "      <td>0.100699</td>\n",
       "      <td>0.808529</td>\n",
       "      <td>-0.849230</td>\n",
       "      <td>0.180610</td>\n",
       "      <td>-0.042271</td>\n",
       "    </tr>\n",
       "    <tr>\n",
       "      <th>3</th>\n",
       "      <td>0.039785</td>\n",
       "      <td>-0.011809</td>\n",
       "      <td>-0.028916</td>\n",
       "      <td>-0.996194</td>\n",
       "      <td>-0.988569</td>\n",
       "      <td>-0.993256</td>\n",
       "      <td>-0.996994</td>\n",
       "      <td>-0.988526</td>\n",
       "      <td>-0.993135</td>\n",
       "      <td>-0.798477</td>\n",
       "      <td>...</td>\n",
       "      <td>0.430891</td>\n",
       "      <td>-0.138373</td>\n",
       "      <td>-0.491604</td>\n",
       "      <td>-0.036788</td>\n",
       "      <td>-0.012892</td>\n",
       "      <td>0.640011</td>\n",
       "      <td>-0.485366</td>\n",
       "      <td>-0.848947</td>\n",
       "      <td>0.181907</td>\n",
       "      <td>-0.040826</td>\n",
       "    </tr>\n",
       "    <tr>\n",
       "      <th>4</th>\n",
       "      <td>0.038758</td>\n",
       "      <td>-0.002289</td>\n",
       "      <td>-0.023863</td>\n",
       "      <td>-0.998241</td>\n",
       "      <td>-0.986774</td>\n",
       "      <td>-0.993115</td>\n",
       "      <td>-0.998216</td>\n",
       "      <td>-0.986479</td>\n",
       "      <td>-0.993825</td>\n",
       "      <td>-0.801982</td>\n",
       "      <td>...</td>\n",
       "      <td>0.137735</td>\n",
       "      <td>-0.366214</td>\n",
       "      <td>-0.702490</td>\n",
       "      <td>0.123320</td>\n",
       "      <td>0.122542</td>\n",
       "      <td>0.693578</td>\n",
       "      <td>-0.615971</td>\n",
       "      <td>-0.848164</td>\n",
       "      <td>0.185124</td>\n",
       "      <td>-0.037080</td>\n",
       "    </tr>\n",
       "  </tbody>\n",
       "</table>\n",
       "<p>5 rows × 561 columns</p>\n",
       "</div>"
      ],
      "text/plain": [
       "        0         1         2         3         4         5         6    \\\n",
       "0  0.043580 -0.005970 -0.035054 -0.995381 -0.988366 -0.937382 -0.995007   \n",
       "1  0.039480 -0.002131 -0.029067 -0.998348 -0.982945 -0.971273 -0.998702   \n",
       "2  0.039978 -0.005153 -0.022651 -0.995482 -0.977314 -0.984760 -0.996415   \n",
       "3  0.039785 -0.011809 -0.028916 -0.996194 -0.988569 -0.993256 -0.996994   \n",
       "4  0.038758 -0.002289 -0.023863 -0.998241 -0.986774 -0.993115 -0.998216   \n",
       "\n",
       "        7         8         9    ...       551       552       553       554  \\\n",
       "0 -0.988816 -0.953325 -0.794796  ... -0.012236 -0.314848 -0.713308 -0.112754   \n",
       "1 -0.983315 -0.974000 -0.802537  ...  0.202804 -0.603199 -0.860677  0.053477   \n",
       "2 -0.975835 -0.985973 -0.798477  ...  0.440079 -0.404427 -0.761847 -0.118559   \n",
       "3 -0.988526 -0.993135 -0.798477  ...  0.430891 -0.138373 -0.491604 -0.036788   \n",
       "4 -0.986479 -0.993825 -0.801982  ...  0.137735 -0.366214 -0.702490  0.123320   \n",
       "\n",
       "        555       556       557       558       559       560  \n",
       "0  0.030400 -0.464761 -0.018446 -0.841559  0.179913 -0.051718  \n",
       "1 -0.007435 -0.732626  0.703511 -0.845092  0.180261 -0.047436  \n",
       "2  0.177899  0.100699  0.808529 -0.849230  0.180610 -0.042271  \n",
       "3 -0.012892  0.640011 -0.485366 -0.848947  0.181907 -0.040826  \n",
       "4  0.122542  0.693578 -0.615971 -0.848164  0.185124 -0.037080  \n",
       "\n",
       "[5 rows x 561 columns]"
      ]
     },
     "execution_count": 7,
     "metadata": {},
     "output_type": "execute_result"
    }
   ],
   "source": [
    "#checking the shapes of loaded data\n",
    "print(\"Some Examples from the training Set\")\n",
    "train_x.head()\n"
   ]
  },
  {
   "cell_type": "code",
   "execution_count": 8,
   "metadata": {},
   "outputs": [
    {
     "name": "stdout",
     "output_type": "stream",
     "text": [
      "Some Examples from the test Set\n"
     ]
    },
    {
     "data": {
      "text/html": [
       "<div>\n",
       "<style scoped>\n",
       "    .dataframe tbody tr th:only-of-type {\n",
       "        vertical-align: middle;\n",
       "    }\n",
       "\n",
       "    .dataframe tbody tr th {\n",
       "        vertical-align: top;\n",
       "    }\n",
       "\n",
       "    .dataframe thead th {\n",
       "        text-align: right;\n",
       "    }\n",
       "</style>\n",
       "<table border=\"1\" class=\"dataframe\">\n",
       "  <thead>\n",
       "    <tr style=\"text-align: right;\">\n",
       "      <th></th>\n",
       "      <th>0</th>\n",
       "      <th>1</th>\n",
       "      <th>2</th>\n",
       "      <th>3</th>\n",
       "      <th>4</th>\n",
       "      <th>5</th>\n",
       "      <th>6</th>\n",
       "      <th>7</th>\n",
       "      <th>8</th>\n",
       "      <th>9</th>\n",
       "      <th>...</th>\n",
       "      <th>551</th>\n",
       "      <th>552</th>\n",
       "      <th>553</th>\n",
       "      <th>554</th>\n",
       "      <th>555</th>\n",
       "      <th>556</th>\n",
       "      <th>557</th>\n",
       "      <th>558</th>\n",
       "      <th>559</th>\n",
       "      <th>560</th>\n",
       "    </tr>\n",
       "  </thead>\n",
       "  <tbody>\n",
       "    <tr>\n",
       "      <th>0</th>\n",
       "      <td>0.030914</td>\n",
       "      <td>-0.008927</td>\n",
       "      <td>0.040382</td>\n",
       "      <td>-0.938504</td>\n",
       "      <td>-0.944626</td>\n",
       "      <td>-0.759334</td>\n",
       "      <td>-0.952398</td>\n",
       "      <td>-0.950281</td>\n",
       "      <td>-0.802483</td>\n",
       "      <td>-0.757099</td>\n",
       "      <td>...</td>\n",
       "      <td>0.122830</td>\n",
       "      <td>-0.345684</td>\n",
       "      <td>-0.709087</td>\n",
       "      <td>0.006462</td>\n",
       "      <td>0.162920</td>\n",
       "      <td>-0.825886</td>\n",
       "      <td>0.271151</td>\n",
       "      <td>-0.720559</td>\n",
       "      <td>0.276779</td>\n",
       "      <td>-0.051074</td>\n",
       "    </tr>\n",
       "    <tr>\n",
       "      <th>1</th>\n",
       "      <td>0.042548</td>\n",
       "      <td>0.001079</td>\n",
       "      <td>-0.026236</td>\n",
       "      <td>-0.975516</td>\n",
       "      <td>-0.977502</td>\n",
       "      <td>-0.960146</td>\n",
       "      <td>-0.986694</td>\n",
       "      <td>-0.978983</td>\n",
       "      <td>-0.966820</td>\n",
       "      <td>-0.757099</td>\n",
       "      <td>...</td>\n",
       "      <td>-0.314688</td>\n",
       "      <td>-0.142804</td>\n",
       "      <td>-0.600867</td>\n",
       "      <td>-0.083495</td>\n",
       "      <td>0.017500</td>\n",
       "      <td>-0.434375</td>\n",
       "      <td>0.920593</td>\n",
       "      <td>-0.698684</td>\n",
       "      <td>0.281322</td>\n",
       "      <td>-0.076825</td>\n",
       "    </tr>\n",
       "    <tr>\n",
       "      <th>2</th>\n",
       "      <td>0.038297</td>\n",
       "      <td>-0.011660</td>\n",
       "      <td>-0.025643</td>\n",
       "      <td>-0.993922</td>\n",
       "      <td>-0.979215</td>\n",
       "      <td>-0.973030</td>\n",
       "      <td>-0.994298</td>\n",
       "      <td>-0.980535</td>\n",
       "      <td>-0.977508</td>\n",
       "      <td>-0.799005</td>\n",
       "      <td>...</td>\n",
       "      <td>0.114730</td>\n",
       "      <td>-0.209525</td>\n",
       "      <td>-0.645500</td>\n",
       "      <td>-0.034956</td>\n",
       "      <td>0.202302</td>\n",
       "      <td>0.064103</td>\n",
       "      <td>0.145068</td>\n",
       "      <td>-0.703355</td>\n",
       "      <td>0.280062</td>\n",
       "      <td>-0.072302</td>\n",
       "    </tr>\n",
       "    <tr>\n",
       "      <th>3</th>\n",
       "      <td>0.036205</td>\n",
       "      <td>-0.018148</td>\n",
       "      <td>-0.025240</td>\n",
       "      <td>-0.994845</td>\n",
       "      <td>-0.981534</td>\n",
       "      <td>-0.976175</td>\n",
       "      <td>-0.995169</td>\n",
       "      <td>-0.983020</td>\n",
       "      <td>-0.980785</td>\n",
       "      <td>-0.798401</td>\n",
       "      <td>...</td>\n",
       "      <td>0.164515</td>\n",
       "      <td>-0.359352</td>\n",
       "      <td>-0.738474</td>\n",
       "      <td>-0.017067</td>\n",
       "      <td>0.154438</td>\n",
       "      <td>0.340134</td>\n",
       "      <td>0.296407</td>\n",
       "      <td>-0.699545</td>\n",
       "      <td>0.284093</td>\n",
       "      <td>-0.070079</td>\n",
       "    </tr>\n",
       "    <tr>\n",
       "      <th>4</th>\n",
       "      <td>0.038034</td>\n",
       "      <td>-0.013437</td>\n",
       "      <td>-0.032899</td>\n",
       "      <td>-0.993955</td>\n",
       "      <td>-0.977493</td>\n",
       "      <td>-0.984290</td>\n",
       "      <td>-0.994006</td>\n",
       "      <td>-0.977354</td>\n",
       "      <td>-0.985899</td>\n",
       "      <td>-0.798401</td>\n",
       "      <td>...</td>\n",
       "      <td>-0.056085</td>\n",
       "      <td>-0.544467</td>\n",
       "      <td>-0.846150</td>\n",
       "      <td>-0.002223</td>\n",
       "      <td>-0.040046</td>\n",
       "      <td>0.736715</td>\n",
       "      <td>-0.118545</td>\n",
       "      <td>-0.692849</td>\n",
       "      <td>0.290701</td>\n",
       "      <td>-0.066849</td>\n",
       "    </tr>\n",
       "  </tbody>\n",
       "</table>\n",
       "<p>5 rows × 561 columns</p>\n",
       "</div>"
      ],
      "text/plain": [
       "        0         1         2         3         4         5         6    \\\n",
       "0  0.030914 -0.008927  0.040382 -0.938504 -0.944626 -0.759334 -0.952398   \n",
       "1  0.042548  0.001079 -0.026236 -0.975516 -0.977502 -0.960146 -0.986694   \n",
       "2  0.038297 -0.011660 -0.025643 -0.993922 -0.979215 -0.973030 -0.994298   \n",
       "3  0.036205 -0.018148 -0.025240 -0.994845 -0.981534 -0.976175 -0.995169   \n",
       "4  0.038034 -0.013437 -0.032899 -0.993955 -0.977493 -0.984290 -0.994006   \n",
       "\n",
       "        7         8         9    ...       551       552       553       554  \\\n",
       "0 -0.950281 -0.802483 -0.757099  ...  0.122830 -0.345684 -0.709087  0.006462   \n",
       "1 -0.978983 -0.966820 -0.757099  ... -0.314688 -0.142804 -0.600867 -0.083495   \n",
       "2 -0.980535 -0.977508 -0.799005  ...  0.114730 -0.209525 -0.645500 -0.034956   \n",
       "3 -0.983020 -0.980785 -0.798401  ...  0.164515 -0.359352 -0.738474 -0.017067   \n",
       "4 -0.977354 -0.985899 -0.798401  ... -0.056085 -0.544467 -0.846150 -0.002223   \n",
       "\n",
       "        555       556       557       558       559       560  \n",
       "0  0.162920 -0.825886  0.271151 -0.720559  0.276779 -0.051074  \n",
       "1  0.017500 -0.434375  0.920593 -0.698684  0.281322 -0.076825  \n",
       "2  0.202302  0.064103  0.145068 -0.703355  0.280062 -0.072302  \n",
       "3  0.154438  0.340134  0.296407 -0.699545  0.284093 -0.070079  \n",
       "4 -0.040046  0.736715 -0.118545 -0.692849  0.290701 -0.066849  \n",
       "\n",
       "[5 rows x 561 columns]"
      ]
     },
     "execution_count": 8,
     "metadata": {},
     "output_type": "execute_result"
    }
   ],
   "source": [
    "\n",
    "print(\"Some Examples from the test Set\")\n",
    "test_x.head()"
   ]
  },
  {
   "cell_type": "code",
   "execution_count": 10,
   "metadata": {},
   "outputs": [
    {
     "data": {
      "text/html": [
       "<div>\n",
       "<style scoped>\n",
       "    .dataframe tbody tr th:only-of-type {\n",
       "        vertical-align: middle;\n",
       "    }\n",
       "\n",
       "    .dataframe tbody tr th {\n",
       "        vertical-align: top;\n",
       "    }\n",
       "\n",
       "    .dataframe thead th {\n",
       "        text-align: right;\n",
       "    }\n",
       "</style>\n",
       "<table border=\"1\" class=\"dataframe\">\n",
       "  <thead>\n",
       "    <tr style=\"text-align: right;\">\n",
       "      <th></th>\n",
       "      <th>0</th>\n",
       "    </tr>\n",
       "  </thead>\n",
       "  <tbody>\n",
       "    <tr>\n",
       "      <th>0</th>\n",
       "      <td>5</td>\n",
       "    </tr>\n",
       "    <tr>\n",
       "      <th>1</th>\n",
       "      <td>5</td>\n",
       "    </tr>\n",
       "    <tr>\n",
       "      <th>2</th>\n",
       "      <td>5</td>\n",
       "    </tr>\n",
       "    <tr>\n",
       "      <th>3</th>\n",
       "      <td>5</td>\n",
       "    </tr>\n",
       "    <tr>\n",
       "      <th>4</th>\n",
       "      <td>5</td>\n",
       "    </tr>\n",
       "    <tr>\n",
       "      <th>...</th>\n",
       "      <td>...</td>\n",
       "    </tr>\n",
       "    <tr>\n",
       "      <th>95</th>\n",
       "      <td>1</td>\n",
       "    </tr>\n",
       "    <tr>\n",
       "      <th>96</th>\n",
       "      <td>1</td>\n",
       "    </tr>\n",
       "    <tr>\n",
       "      <th>97</th>\n",
       "      <td>1</td>\n",
       "    </tr>\n",
       "    <tr>\n",
       "      <th>98</th>\n",
       "      <td>1</td>\n",
       "    </tr>\n",
       "    <tr>\n",
       "      <th>99</th>\n",
       "      <td>1</td>\n",
       "    </tr>\n",
       "  </tbody>\n",
       "</table>\n",
       "<p>100 rows × 1 columns</p>\n",
       "</div>"
      ],
      "text/plain": [
       "    0\n",
       "0   5\n",
       "1   5\n",
       "2   5\n",
       "3   5\n",
       "4   5\n",
       ".. ..\n",
       "95  1\n",
       "96  1\n",
       "97  1\n",
       "98  1\n",
       "99  1\n",
       "\n",
       "[100 rows x 1 columns]"
      ]
     },
     "execution_count": 10,
     "metadata": {},
     "output_type": "execute_result"
    }
   ],
   "source": [
    "train_y[:100]"
   ]
  },
  {
   "cell_type": "code",
   "execution_count": 16,
   "metadata": {},
   "outputs": [
    {
     "data": {
      "text/plain": [
       "<matplotlib.legend.Legend at 0x2539978eb48>"
      ]
     },
     "execution_count": 16,
     "metadata": {},
     "output_type": "execute_result"
    },
    {
     "data": {
      "image/png": "[encoded data removed]",
      "text/plain": [
       "<Figure size 432x288 with 1 Axes>"
      ]
     },
     "metadata": {
      "needs_background": "light"
     },
     "output_type": "display_data"
    }
   ],
   "source": [
    "feature1 = train_x.iloc[:100,:1]\n",
    "feature2 = train_x.iloc[:100,1:2]\n",
    "feature3 = train_x.iloc[:100,2:3]\n",
    "\n",
    "\n",
    "\n",
    "plt.plot(feature1, label = \"tBodyAcc-XYZ\")\n",
    "plt.plot(feature2, label = \"tGravityAcc-XYZ\")\n",
    "plt.plot(feature3, label = \"tBodyAccJerk-XYZ\")\n",
    "plt.legend()"
   ]
  },
  {
   "cell_type": "markdown",
   "metadata": {},
   "source": [
    "## Understanding and Visualizing Data "
   ]
  },
  {
   "cell_type": "code",
   "execution_count": 4,
   "metadata": {
    "scrolled": true
   },
   "outputs": [
    {
     "data": {
      "text/html": [
       "<div>\n",
       "<style scoped>\n",
       "    .dataframe tbody tr th:only-of-type {\n",
       "        vertical-align: middle;\n",
       "    }\n",
       "\n",
       "    .dataframe tbody tr th {\n",
       "        vertical-align: top;\n",
       "    }\n",
       "\n",
       "    .dataframe thead th {\n",
       "        text-align: right;\n",
       "    }\n",
       "</style>\n",
       "<table border=\"1\" class=\"dataframe\">\n",
       "  <thead>\n",
       "    <tr style=\"text-align: right;\">\n",
       "      <th></th>\n",
       "      <th>0</th>\n",
       "      <th>1</th>\n",
       "      <th>2</th>\n",
       "      <th>3</th>\n",
       "      <th>4</th>\n",
       "      <th>5</th>\n",
       "      <th>6</th>\n",
       "      <th>7</th>\n",
       "      <th>8</th>\n",
       "      <th>9</th>\n",
       "      <th>...</th>\n",
       "      <th>552</th>\n",
       "      <th>553</th>\n",
       "      <th>554</th>\n",
       "      <th>555</th>\n",
       "      <th>556</th>\n",
       "      <th>557</th>\n",
       "      <th>558</th>\n",
       "      <th>559</th>\n",
       "      <th>560</th>\n",
       "      <th>0</th>\n",
       "    </tr>\n",
       "  </thead>\n",
       "  <tbody>\n",
       "    <tr>\n",
       "      <th>0</th>\n",
       "      <td>0.043580</td>\n",
       "      <td>-0.005970</td>\n",
       "      <td>-0.035054</td>\n",
       "      <td>-0.995381</td>\n",
       "      <td>-0.988366</td>\n",
       "      <td>-0.937382</td>\n",
       "      <td>-0.995007</td>\n",
       "      <td>-0.988816</td>\n",
       "      <td>-0.953325</td>\n",
       "      <td>-0.794796</td>\n",
       "      <td>...</td>\n",
       "      <td>-0.314848</td>\n",
       "      <td>-0.713308</td>\n",
       "      <td>-0.112754</td>\n",
       "      <td>0.030400</td>\n",
       "      <td>-0.464761</td>\n",
       "      <td>-0.018446</td>\n",
       "      <td>-0.841559</td>\n",
       "      <td>0.179913</td>\n",
       "      <td>-0.051718</td>\n",
       "      <td>5</td>\n",
       "    </tr>\n",
       "    <tr>\n",
       "      <th>1</th>\n",
       "      <td>0.039480</td>\n",
       "      <td>-0.002131</td>\n",
       "      <td>-0.029067</td>\n",
       "      <td>-0.998348</td>\n",
       "      <td>-0.982945</td>\n",
       "      <td>-0.971273</td>\n",
       "      <td>-0.998702</td>\n",
       "      <td>-0.983315</td>\n",
       "      <td>-0.974000</td>\n",
       "      <td>-0.802537</td>\n",
       "      <td>...</td>\n",
       "      <td>-0.603199</td>\n",
       "      <td>-0.860677</td>\n",
       "      <td>0.053477</td>\n",
       "      <td>-0.007435</td>\n",
       "      <td>-0.732626</td>\n",
       "      <td>0.703511</td>\n",
       "      <td>-0.845092</td>\n",
       "      <td>0.180261</td>\n",
       "      <td>-0.047436</td>\n",
       "      <td>5</td>\n",
       "    </tr>\n",
       "    <tr>\n",
       "      <th>2</th>\n",
       "      <td>0.039978</td>\n",
       "      <td>-0.005153</td>\n",
       "      <td>-0.022651</td>\n",
       "      <td>-0.995482</td>\n",
       "      <td>-0.977314</td>\n",
       "      <td>-0.984760</td>\n",
       "      <td>-0.996415</td>\n",
       "      <td>-0.975835</td>\n",
       "      <td>-0.985973</td>\n",
       "      <td>-0.798477</td>\n",
       "      <td>...</td>\n",
       "      <td>-0.404427</td>\n",
       "      <td>-0.761847</td>\n",
       "      <td>-0.118559</td>\n",
       "      <td>0.177899</td>\n",
       "      <td>0.100699</td>\n",
       "      <td>0.808529</td>\n",
       "      <td>-0.849230</td>\n",
       "      <td>0.180610</td>\n",
       "      <td>-0.042271</td>\n",
       "      <td>5</td>\n",
       "    </tr>\n",
       "    <tr>\n",
       "      <th>3</th>\n",
       "      <td>0.039785</td>\n",
       "      <td>-0.011809</td>\n",
       "      <td>-0.028916</td>\n",
       "      <td>-0.996194</td>\n",
       "      <td>-0.988569</td>\n",
       "      <td>-0.993256</td>\n",
       "      <td>-0.996994</td>\n",
       "      <td>-0.988526</td>\n",
       "      <td>-0.993135</td>\n",
       "      <td>-0.798477</td>\n",
       "      <td>...</td>\n",
       "      <td>-0.138373</td>\n",
       "      <td>-0.491604</td>\n",
       "      <td>-0.036788</td>\n",
       "      <td>-0.012892</td>\n",
       "      <td>0.640011</td>\n",
       "      <td>-0.485366</td>\n",
       "      <td>-0.848947</td>\n",
       "      <td>0.181907</td>\n",
       "      <td>-0.040826</td>\n",
       "      <td>5</td>\n",
       "    </tr>\n",
       "    <tr>\n",
       "      <th>4</th>\n",
       "      <td>0.038758</td>\n",
       "      <td>-0.002289</td>\n",
       "      <td>-0.023863</td>\n",
       "      <td>-0.998241</td>\n",
       "      <td>-0.986774</td>\n",
       "      <td>-0.993115</td>\n",
       "      <td>-0.998216</td>\n",
       "      <td>-0.986479</td>\n",
       "      <td>-0.993825</td>\n",
       "      <td>-0.801982</td>\n",
       "      <td>...</td>\n",
       "      <td>-0.366214</td>\n",
       "      <td>-0.702490</td>\n",
       "      <td>0.123320</td>\n",
       "      <td>0.122542</td>\n",
       "      <td>0.693578</td>\n",
       "      <td>-0.615971</td>\n",
       "      <td>-0.848164</td>\n",
       "      <td>0.185124</td>\n",
       "      <td>-0.037080</td>\n",
       "      <td>5</td>\n",
       "    </tr>\n",
       "  </tbody>\n",
       "</table>\n",
       "<p>5 rows × 562 columns</p>\n",
       "</div>"
      ],
      "text/plain": [
       "        0         1         2         3         4         5         6    \\\n",
       "0  0.043580 -0.005970 -0.035054 -0.995381 -0.988366 -0.937382 -0.995007   \n",
       "1  0.039480 -0.002131 -0.029067 -0.998348 -0.982945 -0.971273 -0.998702   \n",
       "2  0.039978 -0.005153 -0.022651 -0.995482 -0.977314 -0.984760 -0.996415   \n",
       "3  0.039785 -0.011809 -0.028916 -0.996194 -0.988569 -0.993256 -0.996994   \n",
       "4  0.038758 -0.002289 -0.023863 -0.998241 -0.986774 -0.993115 -0.998216   \n",
       "\n",
       "        7         8         9    ...       552       553       554       555  \\\n",
       "0 -0.988816 -0.953325 -0.794796  ... -0.314848 -0.713308 -0.112754  0.030400   \n",
       "1 -0.983315 -0.974000 -0.802537  ... -0.603199 -0.860677  0.053477 -0.007435   \n",
       "2 -0.975835 -0.985973 -0.798477  ... -0.404427 -0.761847 -0.118559  0.177899   \n",
       "3 -0.988526 -0.993135 -0.798477  ... -0.138373 -0.491604 -0.036788 -0.012892   \n",
       "4 -0.986479 -0.993825 -0.801982  ... -0.366214 -0.702490  0.123320  0.122542   \n",
       "\n",
       "        556       557       558       559       560  0    \n",
       "0 -0.464761 -0.018446 -0.841559  0.179913 -0.051718    5  \n",
       "1 -0.732626  0.703511 -0.845092  0.180261 -0.047436    5  \n",
       "2  0.100699  0.808529 -0.849230  0.180610 -0.042271    5  \n",
       "3  0.640011 -0.485366 -0.848947  0.181907 -0.040826    5  \n",
       "4  0.693578 -0.615971 -0.848164  0.185124 -0.037080    5  \n",
       "\n",
       "[5 rows x 562 columns]"
      ]
     },
     "execution_count": 4,
     "metadata": {},
     "output_type": "execute_result"
    }
   ],
   "source": [
    "\n",
    "data = pd.concat([train_x,train_y],axis=1)\n",
    "data.head()\n"
   ]
  },
  {
   "cell_type": "code",
   "execution_count": 142,
   "metadata": {},
   "outputs": [
    {
     "name": "stdout",
     "output_type": "stream",
     "text": [
      "5     1423\n",
      "6     1413\n",
      "4     1293\n",
      "1     1226\n",
      "2     1073\n",
      "3      987\n",
      "11      90\n",
      "9       75\n",
      "10      60\n",
      "12      57\n",
      "7       47\n",
      "8       23\n",
      "Name: 0, dtype: int64\n"
     ]
    }
   ],
   "source": [
    "print(data.iloc[:,-1].value_counts()) # we can see the class imbalance here."
   ]
  },
  {
   "cell_type": "code",
   "execution_count": 67,
   "metadata": {},
   "outputs": [],
   "source": [
    "##implementatation of custome dataset\n",
    "\n",
    "class Dataset(torch.utils.data.Dataset):\n",
    "    \n",
    "    def __init__(self, data, labels, transform = None):\n",
    "        'Initialization'\n",
    "        self.labels = labels #to one-hot encode the labels\n",
    "        self.data = data\n",
    "        self.T = transform\n",
    "\n",
    "    def __len__(self):\n",
    "        'Denotes the total number of samples'\n",
    "        return len(self.data)\n",
    "\n",
    "    def __getitem__(self, index):\n",
    "        'Generates one sample of data'\n",
    "        # Select sample\n",
    "        x = self.data[index]\n",
    "        # Load data and get label\n",
    "        y = self.labels[index]\n",
    "        if(self.T):\n",
    "            x = self.T(x)\n",
    "            \n",
    "        return x, y"
   ]
  },
  {
   "cell_type": "code",
   "execution_count": 68,
   "metadata": {},
   "outputs": [
    {
     "name": "stderr",
     "output_type": "stream",
     "text": [
      "C:\\Users\\adeen\\Miniconda3\\lib\\site-packages\\sklearn\\utils\\validation.py:73: DataConversionWarning: A column-vector y was passed when a 1d array was expected. Please change the shape of y to (n_samples, ), for example using ravel().\n",
      "  return f(**kwargs)\n"
     ]
    },
    {
     "data": {
      "text/plain": [
       "tensor([[ 0.0309, -0.0089,  0.0404,  ..., -0.7206,  0.2768, -0.0511],\n",
       "        [ 0.0425,  0.0011, -0.0262,  ..., -0.6987,  0.2813, -0.0768],\n",
       "        [ 0.0383, -0.0117, -0.0256,  ..., -0.7034,  0.2801, -0.0723],\n",
       "        ...,\n",
       "        [ 0.0402, -0.0049, -0.0200,  ..., -0.8126,  0.1640, -0.0920],\n",
       "        [-0.0293, -0.2648, -0.1592,  ..., -0.7103,  0.2940, -0.0190],\n",
       "        [ 0.0517, -0.0063, -0.0167,  ..., -0.5931,  0.3788,  0.0015]],\n",
       "       dtype=torch.float64)"
      ]
     },
     "execution_count": 68,
     "metadata": {},
     "output_type": "execute_result"
    }
   ],
   "source": [
    "#custome dataset object that filts your needs\n",
    "from sklearn import preprocessing\n",
    "encoder = preprocessing.LabelEncoder()\n",
    "# for changing the labels range to 0, n_classes -1\n",
    "train_labels = encoder.fit_transform(train_y.values)\n",
    "test_labels  = encoder.fit_transform(test_y.values)\n",
    "\n",
    "transform = transforms.ToTensor()\n",
    "train_data = Dataset(train_x.values , train_labels)\n",
    "test_data  = Dataset(test_x.values , test_labels)\n",
    "\n",
    "train_loader  = torch.utils.data.DataLoader(train_data, shuffle= True, batch_size= 32)\n",
    "test_loader = torch.utils.data.DataLoader(test_data,shuffle = False , batch_size = 32)\n",
    "#making trainloader for our dataset\n",
    "activities, labels = next(iter(test_loader))\n",
    "\n",
    "activities"
   ]
  },
  {
   "cell_type": "markdown",
   "metadata": {},
   "source": [
    "## Creating Deep Neural Network "
   ]
  },
  {
   "cell_type": "code",
   "execution_count": 124,
   "metadata": {},
   "outputs": [],
   "source": [
    "#now that we  have loaded our data, we can now build our model for classification\n",
    "from torch import nn\n",
    "from torch import optim\n",
    "import torch.nn.functional as F\n",
    "class Model (nn.Module):\n",
    "    \n",
    "    def __init__(self):\n",
    "        super(Model, self).__init__()\n",
    "        \n",
    "        self.fc1 = nn.Linear(in_features=561 , out_features=256)\n",
    "        self.fc2 = nn.Linear(in_features=256 , out_features=128)\n",
    "        self.fc3 = nn.Linear(in_features=128, out_features=64)\n",
    "        self.fc4 = nn.Linear(in_features=64 , out_features=32)\n",
    "        self.fc5 = nn.Linear(in_features=32 , out_features=12)\n",
    "        \n",
    "        self.dropout = nn.Dropout(0.2)\n",
    "        \n",
    "    def forward(self, x):\n",
    "        \n",
    "        x = F.relu(self.dropout(self.fc1(x)))\n",
    "        x = F.relu(self.dropout(self.fc2(x)))\n",
    "        x = F.relu(self.dropout(self.fc3(x)))\n",
    "        x = F.relu(self.dropout(self.fc4(x)))\n",
    "        x = F.log_softmax(self.dropout(self.fc5(x)), dim=1)\n",
    "        \n",
    "        return x\n",
    "        \n",
    "        "
   ]
  },
  {
   "cell_type": "code",
   "execution_count": 125,
   "metadata": {},
   "outputs": [
    {
     "data": {
      "text/plain": [
       "Model(\n",
       "  (fc1): Linear(in_features=561, out_features=256, bias=True)\n",
       "  (fc2): Linear(in_features=256, out_features=128, bias=True)\n",
       "  (fc3): Linear(in_features=128, out_features=64, bias=True)\n",
       "  (fc4): Linear(in_features=64, out_features=32, bias=True)\n",
       "  (fc5): Linear(in_features=32, out_features=12, bias=True)\n",
       "  (dropout): Dropout(p=0.2, inplace=False)\n",
       ")"
      ]
     },
     "execution_count": 125,
     "metadata": {},
     "output_type": "execute_result"
    }
   ],
   "source": [
    "device = torch.cuda.is_available()\n",
    "\n",
    "model = Model()\n",
    "\n",
    "criterion = nn.NLLLoss()\n",
    "optimizer = optim.Adam(model.parameters() , lr = 0.003)\n",
    "\n",
    "if(device):\n",
    "    model = model.to('cuda')\n",
    "\n",
    "model.float()"
   ]
  },
  {
   "cell_type": "markdown",
   "metadata": {},
   "source": [
    "## Model Training "
   ]
  },
  {
   "cell_type": "code",
   "execution_count": 126,
   "metadata": {},
   "outputs": [
    {
     "name": "stdout",
     "output_type": "stream",
     "text": [
      "Training loss: 1.292251341382172\n",
      "Training loss: 0.7935354530566023\n",
      "Training loss: 0.7091456567063744\n",
      "Training loss: 0.6360080408338656\n",
      "Training loss: 0.5829167548153136\n",
      "Training loss: 0.5756656853750409\n",
      "Training loss: 0.5741365365530728\n",
      "Training loss: 0.5458071401089798\n",
      "Training loss: 0.5081410884489248\n",
      "Training loss: 0.5076000402861662\n",
      "Training loss: 0.48359921384495475\n",
      "Training loss: 0.4916548486109133\n",
      "Training loss: 0.4687688676295457\n",
      "Training loss: 0.5017663078850189\n",
      "Training loss: 0.468883867555685\n",
      "Training loss: 0.4915503985229343\n",
      "Training loss: 0.47348391347461277\n",
      "Training loss: 0.45594139476862466\n",
      "Training loss: 0.4308499782327026\n",
      "Training loss: 0.44646452747499993\n"
     ]
    }
   ],
   "source": [
    "# declaring the training loop\n",
    "\n",
    "epochs = 20\n",
    "losses = []\n",
    "\n",
    "for e in range(epochs):\n",
    "    epoch_loss = 0\n",
    "    for activities, labels in train_loader:\n",
    "        \n",
    "        if device:\n",
    "            activities = activities.to('cuda')\n",
    "            labels = labels.to('cuda')\n",
    "        optimizer.zero_grad()\n",
    "        output = model(activities.float())\n",
    "    \n",
    "        loss = criterion(output , labels.long())\n",
    "        loss.backward()\n",
    "        optimizer.step()\n",
    "        epoch_loss+= loss.item()\n",
    "       \n",
    "    \n",
    "    else:\n",
    "        print(f\"Training loss: {epoch_loss/len(train_loader)}\")\n",
    "        losses.append(epoch_loss/len(train_loader))\n",
    "        "
   ]
  },
  {
   "cell_type": "code",
   "execution_count": 133,
   "metadata": {},
   "outputs": [
    {
     "data": {
      "text/plain": [
       "<matplotlib.legend.Legend at 0x27b3df56b88>"
      ]
     },
     "execution_count": 133,
     "metadata": {},
     "output_type": "execute_result"
    },
    {
     "data": {
      "image/png": "[encoded data removed]",
      "text/plain": [
       "<Figure size 432x288 with 1 Axes>"
      ]
     },
     "metadata": {
      "needs_background": "light"
     },
     "output_type": "display_data"
    }
   ],
   "source": [
    "epchs = np.arange(epochs)\n",
    "plt.plot(losses , label= \"Training Loss\")\n",
    "plt.xlabel(\"Epochs\")\n",
    "plt.ylabel(\"Epoch loss\")\n",
    "plt.legend()"
   ]
  },
  {
   "cell_type": "code",
   "execution_count": 103,
   "metadata": {},
   "outputs": [
    {
     "name": "stdout",
     "output_type": "stream",
     "text": [
      "Accuracy = 91.22474670410156\n"
     ]
    }
   ],
   "source": [
    "#testing loop to test the network performance on the test set.\n",
    "model.eval()\n",
    "accuracy = 0\n",
    "for activities, labels in test_loader:\n",
    "    \n",
    "    if device:\n",
    "        activities = activities.to('cuda')\n",
    "        labels = labels.to('cuda')\n",
    "    logps = model(activities.float())\n",
    "    prob = torch.exp(logps)\n",
    "    _, top_class = prob.topk(1)\n",
    "    equals = top_class == labels.view(*top_class.shape)\n",
    "    accuracy += torch.mean(equals.type(torch.FloatTensor))\n",
    "    \n",
    "print(\"Accuracy = {}\".format(accuracy/len(test_loader)*100))"
   ]
  },
  {
   "cell_type": "markdown",
   "metadata": {},
   "source": [
    "## Conclusions\n",
    "\n",
    "This seem a pretty easy task for the neural networks, but the reason that we were able to achieve adequately high accuracy is because the data that was used was highly preprocessed.The raw inertial signal was transform into hand-crafted features that experts think are more correlated to the activity that user is performing.\n",
    "\n",
    "But this preprocessing requires lots of domain knowledge, you need to have some level of expertise in signal processing to understand and preprocess the signal accurately. Thus this machine learning technique (hand-crafted) way is a tradiotional way of performing classificatio in  HAR.\n",
    "\n",
    "Nowadays, research is headed towards application of deep learning techniques on HAR tasks. The idea is to automate the feature learning process instead of implicitly telling the model what to look on (Hand Crafted features). There are many studies done recently in which authors have explained the great benefits of deep learning in HAR. Next as my Undergrad research, I will be studying about deep learning techniques that are proposed in the studies and look for ways if we can improve and push a bit furthur. "
   ]
  },
  {
   "cell_type": "markdown",
   "metadata": {},
   "source": [
    "##  Analysis of Inertial dataset for application of DL For  FYP part-2 "
   ]
  },
  {
   "cell_type": "code",
   "execution_count": 3,
   "metadata": {},
   "outputs": [],
   "source": [
    "root = \"Data Sets\\\\UCI HAR Dataset\\\\UCI HAR Dataset\"\n",
    "\n",
    "train_y = pd.read_csv(root+\"\\\\train\\\\y_train.txt\", header= None)\n",
    "test_y = pd.read_csv(root+\"\\\\test\\\\y_test.txt\", header=None )"
   ]
  },
  {
   "cell_type": "code",
   "execution_count": 4,
   "metadata": {},
   "outputs": [
    {
     "name": "stdout",
     "output_type": "stream",
     "text": [
      "(7352, 1)\n",
      "(2947, 1)\n"
     ]
    }
   ],
   "source": [
    "#checking the size of the read data\n",
    "print(train_y.shape)\n",
    "print(test_y.shape)"
   ]
  },
  {
   "cell_type": "code",
   "execution_count": 5,
   "metadata": {},
   "outputs": [],
   "source": [
    "def read_signals(filename , foldername):\n",
    "    with open(root + \"\\\\\"+ foldername + \"\\\\Inertial Signals\\\\\" + filename, 'r') as fp:\n",
    "        data = fp.read().splitlines()\n",
    "        data = map(lambda x: x.rstrip().lstrip().split(), data)\n",
    "        data = [list(map(float, line)) for line in data]\n",
    "        data = np.array(data, dtype=np.float32)\n",
    "    return data\n",
    "def load_data(filename , foldername):\n",
    "    data =  pd.read_csv(root + \"\\\\\"+ foldername + \"\\\\Inertial Signals\\\\\" + filename , delim_whitespace=True)\n",
    "    #this is in shape (7k , 128)\n",
    "    return data.values\n",
    "\n",
    "\n",
    "train_file_names = ['body_acc_x_train.txt','body_acc_y_train.txt', 'body_acc_z_train.txt', \n",
    "                     'body_gyro_x_train.txt', 'body_gyro_y_train.txt', 'body_gyro_z_train.txt',\n",
    "                     'total_acc_x_train.txt', 'total_acc_y_train.txt', 'total_acc_z_train.txt']\n",
    "\n",
    "test_file_names = ['body_acc_x_test.txt','body_acc_y_test.txt', 'body_acc_z_test.txt', \n",
    "                     'body_gyro_x_test.txt', 'body_gyro_y_test.txt', 'body_gyro_z_test.txt',\n",
    "                     'total_acc_x_test.txt', 'total_acc_y_test.txt', 'total_acc_z_test.txt']\n",
    "\n",
    "train_signals = [] \n",
    "test_signals = []   # We want this to be (7k , 128 , 9)\n",
    "for item in train_file_names:\n",
    "    train_values = load_data(item , 'train')\n",
    "    train_signals.append(train_values)\n",
    "    \n",
    "train_signals = np.transpose(np.array(train_signals), (1, 2, 0))\n",
    "\n",
    "for filename in test_file_names:\n",
    "    test_values = load_data(filename , \"test\")\n",
    "    test_signals.append(test_values)\n",
    "\n",
    "test_signals = np.transpose(np.array(test_signals) , (1,2,0))"
   ]
  },
  {
   "cell_type": "code",
   "execution_count": 6,
   "metadata": {},
   "outputs": [
    {
     "name": "stdout",
     "output_type": "stream",
     "text": [
      "(7351, 128, 9)\n",
      "(2946, 128, 9)\n"
     ]
    }
   ],
   "source": [
    "print(train_signals.shape)\n",
    "print(test_signals.shape)"
   ]
  },
  {
   "cell_type": "code",
   "execution_count": 7,
   "metadata": {},
   "outputs": [],
   "source": [
    "##implementatation of custome dataset\n",
    "\n",
    "class Dataset(torch.utils.data.Dataset):\n",
    "    \n",
    "    def __init__(self, data, labels):\n",
    "        'Initialization'\n",
    "        self.labels = np.eye(12)[labels] #to one-hot encode the labels\n",
    "        self.data = data\n",
    "\n",
    "    def __len__(self):\n",
    "        'Denotes the total number of samples'\n",
    "        return len(self.data)\n",
    "\n",
    "    def __getitem__(self, index):\n",
    "        \n",
    "        'Generates one sample of data'\n",
    "        # Select sample\n",
    "        x = self.data[index]\n",
    "        # Load data and get label\n",
    "        y = self.labels[index]\n",
    "\n",
    "        return x, y"
   ]
  },
  {
   "cell_type": "code",
   "execution_count": 8,
   "metadata": {},
   "outputs": [],
   "source": [
    "from sklearn import preprocessing\n",
    "def one_hot_labels (rawLabels):\n",
    "    encoder = preprocessing.LabelEncoder()\n",
    "    return np.eye(6)[encoder.fit_transform(rawLabels)] #number of classes are 6\n",
    "    "
   ]
  },
  {
   "cell_type": "code",
   "execution_count": 9,
   "metadata": {},
   "outputs": [
    {
     "name": "stdout",
     "output_type": "stream",
     "text": [
      "[[0. 0. 0. 0. 1. 0.]\n",
      " [0. 0. 0. 0. 1. 0.]\n",
      " [0. 0. 0. 0. 1. 0.]\n",
      " ...\n",
      " [0. 1. 0. 0. 0. 0.]\n",
      " [0. 1. 0. 0. 0. 0.]\n",
      " [0. 1. 0. 0. 0. 0.]]\n"
     ]
    },
    {
     "name": "stderr",
     "output_type": "stream",
     "text": [
      "C:\\Users\\adeen\\Miniconda3\\lib\\site-packages\\sklearn\\utils\\validation.py:73: DataConversionWarning: A column-vector y was passed when a 1d array was expected. Please change the shape of y to (n_samples, ), for example using ravel().\n",
      "  return f(**kwargs)\n"
     ]
    }
   ],
   "source": [
    "#testing the function\n",
    "print(one_hot_labels(train_y.values))"
   ]
  },
  {
   "cell_type": "code",
   "execution_count": 13,
   "metadata": {},
   "outputs": [
    {
     "data": {
      "text/plain": [
       "torch.Size([32, 12])"
      ]
     },
     "execution_count": 13,
     "metadata": {},
     "output_type": "execute_result"
    }
   ],
   "source": [
    "from sklearn import preprocessing\n",
    "encoder = preprocessing.LabelEncoder()\n",
    "\n",
    "train_labels = encoder.fit_transform(train_y.values) # for changing the labels range to 0, n_classes -1\n",
    "dataset = Dataset(train_signals , train_labels )\n",
    "train_loader  = torch.utils.data.DataLoader(dataset, shuffle= False, batch_size= 32)\n",
    "#making trainloader for our dataset\n",
    "activities, labels = next(iter(train_loader))\n",
    "\n",
    "activities.shape\n",
    "labels.shape"
   ]
  },
  {
   "cell_type": "code",
   "execution_count": 14,
   "metadata": {},
   "outputs": [
    {
     "name": "stdout",
     "output_type": "stream",
     "text": [
      "(2, 5)\n"
     ]
    }
   ],
   "source": [
    "l1 = np.array([1,2,3,4,5])\n",
    "l2 = np.array([6,7,8,9,10])\n",
    "\n",
    "data = np.append(l1,l2, axis=0)\n",
    "values  = np.reshape(data , (2,5) )\n",
    "print(values.shape)\n"
   ]
  },
  {
   "cell_type": "code",
   "execution_count": 15,
   "metadata": {},
   "outputs": [
    {
     "data": {
      "text/plain": [
       "<matplotlib.legend.Legend at 0x1a1d2abfac8>"
      ]
     },
     "execution_count": 15,
     "metadata": {},
     "output_type": "execute_result"
    },
    {
     "data": {
      "image/png": "[encoded data removed]",
      "text/plain": [
       "<Figure size 432x288 with 1 Axes>"
      ]
     },
     "metadata": {
      "needs_background": "light"
     },
     "output_type": "display_data"
    }
   ],
   "source": [
    "#Visualizing data for better uderstanding.\n",
    "time =np.arange(128)\n",
    "acc_x = test_signals[0,:,0]\n",
    "acc_y = test_signals[0,:,1]\n",
    "acc_z = test_signals[0,:,2]\n",
    "\n",
    "plt.plot(acc_x, label=\"body acceleration x-axis\")\n",
    "plt.plot(acc_y, label=\"body acceleration y-axis\")\n",
    "plt.plot(acc_z, label=\"body acceleration z-axis\")\n",
    "plt.xlabel('time secs')\n",
    "plt.ylabel('Amplitude')\n",
    "plt.legend()"
   ]
  },
  {
   "cell_type": "code",
   "execution_count": 16,
   "metadata": {
    "scrolled": true
   },
   "outputs": [
    {
     "data": {
      "text/plain": [
       "<matplotlib.legend.Legend at 0x1a1d2b74f48>"
      ]
     },
     "execution_count": 16,
     "metadata": {},
     "output_type": "execute_result"
    },
    {
     "data": {
      "image/png": "[encoded data removed]",
      "text/plain": [
       "<Figure size 432x288 with 1 Axes>"
      ]
     },
     "metadata": {
      "needs_background": "light"
     },
     "output_type": "display_data"
    }
   ],
   "source": [
    "gyro_x = test_signals[0,:,3]\n",
    "gyro_y = test_signals[0,:,4]\n",
    "gyro_z = test_signals[0,:,5]\n",
    "\n",
    "plt.plot(gyro_x, label=\"gyroscope x-axis\")\n",
    "plt.plot(gyro_y, label=\"gyroscope y-axis\")\n",
    "plt.plot(gyro_z, label=\"gyroscope z-axis\")\n",
    "plt.xlabel('time secs')\n",
    "plt.ylabel('Amplitude')\n",
    "plt.legend()"
   ]
  }
 ],
 "metadata": {
  "kernelspec": {
   "display_name": "Python 3",
   "language": "python",
   "name": "python3"
  },
  "language_info": {
   "codemirror_mode": {
    "name": "ipython",
    "version": 3
   },
   "file_extension": ".py",
   "mimetype": "text/x-python",
   "name": "python",
   "nbconvert_exporter": "python",
   "pygments_lexer": "ipython3",
   "version": "3.7.7"
  }
 },
 "nbformat": 4,
 "nbformat_minor": 4
}
